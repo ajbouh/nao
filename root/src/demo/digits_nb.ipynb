{
  "cells": [
    {
      "cell_type": "markdown",
      "source": [
        "# Tensor Language MNIST Digit Classifier Demo\n",
        "\n",
        "See below for an example of how to:\n",
        " - Import an existing model in one line of code\n",
        " - Import an existing dataset in one line of code\n",
        " - Train a model"
      ],
      "metadata": {}
    },
    {
      "cell_type": "markdown",
      "source": [
        "## First we'll try an untrained digit classifier on the MNIST handwritten digit dataset"
      ],
      "metadata": {}
    },
    {
      "cell_type": "code",
      "source": [
        "import (\n",
        "    \"demo/digits_try\"\n",
        "    mnistQueue \"datasets/mnist/queue\"\n",
        ")\n",
        "\ndigits_try.Try(mnistQueue.ForTesting())"
      ],
      "outputs": [
        {
          "output_type": "display_data",
          "data": {
            "image/png": "[encoded data removed]"
          },
          "metadata": {
            "image/png": {
              "height": 28,
              "width": 28
            }
          }
        },
        {
          "output_type": "execute_result",
          "execution_count": 1,
          "data": {
            "text/plain": [
              "1"
            ]
          },
          "metadata": {}
        },
        {
          "output_type": "display_data",
          "data": {
            "image/png": "[encoded data removed]"
          },
          "metadata": {
            "image/png": {
              "height": 28,
              "width": 28
            }
          }
        },
        {
          "output_type": "display_data",
          "data": {
            "image/png": "[encoded data removed]"
          },
          "metadata": {
            "image/png": {
              "height": 28,
              "width": 28
            }
          }
        },
        {
          "output_type": "display_data",
          "data": {
            "image/png": "[encoded data removed]"
          },
          "metadata": {
            "image/png": {
              "height": 28,
              "width": 28
            }
          }
        },
        {
          "output_type": "display_data",
          "data": {
            "image/png": "[encoded data removed]"
          },
          "metadata": {
            "image/png": {
              "height": 28,
              "width": 28
            }
          }
        },
        {
          "output_type": "display_data",
          "data": {
            "image/png": "[encoded data removed]"
          },
          "metadata": {
            "image/png": {
              "height": 28,
              "width": 28
            }
          }
        },
        {
          "output_type": "display_data",
          "data": {
            "image/png": "[encoded data removed]"
          },
          "metadata": {
            "image/png": {
              "height": 28,
              "width": 28
            }
          }
        },
        {
          "output_type": "display_data",
          "data": {
            "image/png": "[encoded data removed]"
          },
          "metadata": {
            "image/png": {
              "height": 28,
              "width": 28
            }
          }
        },
        {
          "output_type": "display_data",
          "data": {
            "image/png": "[encoded data removed]"
          },
          "metadata": {
            "image/png": {
              "height": 28,
              "width": 28
            }
          }
        },
        {
          "output_type": "display_data",
          "data": {
            "image/png": "[encoded data removed]"
          },
          "metadata": {
            "image/png": {
              "height": 28,
              "width": 28
            }
          }
        },
        {
          "output_type": "display_data",
          "data": {
            "image/png": "[encoded data removed]"
          },
          "metadata": {
            "image/png": {
              "height": 28,
              "width": 28
            }
          }
        },
        {
          "output_type": "display_data",
          "data": {
            "image/png": "[encoded data removed]"
          },
          "metadata": {
            "image/png": {
              "height": 28,
              "width": 28
            }
          }
        },
        {
          "output_type": "display_data",
          "data": {
            "image/png": "[encoded data removed]"
          },
          "metadata": {
            "image/png": {
              "height": 28,
              "width": 28
            }
          }
        },
        {
          "output_type": "display_data",
          "data": {
            "image/png": "[encoded data removed]"
          },
          "metadata": {
            "image/png": {
              "height": 28,
              "width": 28
            }
          }
        },
        {
          "output_type": "display_data",
          "data": {
            "image/png": "[encoded data removed]"
          },
          "metadata": {
            "image/png": {
              "height": 28,
              "width": 28
            }
          }
        }
      ],
      "execution_count": 1,
      "metadata": {
        "collapsed": false,
        "outputHidden": false,
        "inputHidden": false
      }
    },
    {
      "cell_type": "markdown",
      "source": [
        "## Next, train our model for 5 iterations and try it again"
      ],
      "metadata": {}
    },
    {
      "cell_type": "code",
      "source": [
        "import \"demo/digits_train\"\n",
        "\ndigits_train.UsingQueue(5, mnistQueue.ForTraining())"
      ],
      "outputs": [
        {
          "output_type": "display_data",
          "data": {
            "application/json": {
              "wall_time": 1493148462.859335,
              "step": 0,
              "value": 0.05999999865889549
            }
          },
          "metadata": {}
        },
        {
          "output_type": "display_data",
          "data": {
            "application/json": {
              "wall_time": 1493148462.85961,
              "step": 0,
              "value": 4.377264976501465
            }
          },
          "metadata": {}
        },
        {
          "output_type": "display_data",
          "data": {
            "application/json": {
              "wall_time": 1493148463.003912,
              "step": 1,
              "value": 0.10999999940395355
            }
          },
          "metadata": {}
        },
        {
          "output_type": "display_data",
          "data": {
            "application/json": {
              "wall_time": 1493148463.004516,
              "step": 1,
              "value": 3.40421199798584
            }
          },
          "metadata": {}
        },
        {
          "output_type": "display_data",
          "data": {
            "application/json": {
              "wall_time": 1493148463.145486,
              "step": 2,
              "value": 0.20000000298023224
            }
          },
          "metadata": {}
        },
        {
          "output_type": "display_data",
          "data": {
            "application/json": {
              "wall_time": 1493148463.145635,
              "step": 2,
              "value": 3.5034430027008057
            }
          },
          "metadata": {}
        },
        {
          "output_type": "display_data",
          "data": {
            "application/json": {
              "wall_time": 1493148463.285245,
              "step": 3,
              "value": 0.14000000059604645
            }
          },
          "metadata": {}
        },
        {
          "output_type": "display_data",
          "data": {
            "application/json": {
              "wall_time": 1493148463.285478,
              "step": 3,
              "value": 3.4922173023223877
            }
          },
          "metadata": {}
        },
        {
          "output_type": "display_data",
          "data": {
            "application/json": {
              "wall_time": 1493148463.433857,
              "step": 4,
              "value": 0.23999999463558197
            }
          },
          "metadata": {}
        },
        {
          "output_type": "display_data",
          "data": {
            "application/json": {
              "wall_time": 1493148463.43443,
              "step": 4,
              "value": 2.3741583824157715
            }
          },
          "metadata": {}
        },
        {
          "output_type": "display_data",
          "data": {
            "application/json": {
              "wall_time": 1493148463.574333,
              "step": 5,
              "value": 0.23999999463558197
            }
          },
          "metadata": {}
        },
        {
          "output_type": "display_data",
          "data": {
            "application/json": {
              "wall_time": 1493148463.574502,
              "step": 5,
              "value": 2.064815044403076
            }
          },
          "metadata": {}
        },
        {
          "output_type": "display_data",
          "data": {
            "application/json": {
              "wall_time": 1493148463.716489,
              "step": 6,
              "value": 0.33000001311302185
            }
          },
          "metadata": {}
        },
        {
          "output_type": "display_data",
          "data": {
            "application/json": {
              "wall_time": 1493148463.716653,
              "step": 6,
              "value": 2.092103958129883
            }
          },
          "metadata": {}
        },
        {
          "output_type": "display_data",
          "data": {
            "application/json": {
              "wall_time": 1493148463.854782,
              "step": 7,
              "value": 0.44999998807907104
            }
          },
          "metadata": {}
        },
        {
          "output_type": "display_data",
          "data": {
            "application/json": {
              "wall_time": 1493148463.85496,
              "step": 7,
              "value": 1.7236348390579224
            }
          },
          "metadata": {}
        },
        {
          "output_type": "display_data",
          "data": {
            "application/json": {
              "wall_time": 1493148463.996501,
              "step": 8,
              "value": 0.4399999976158142
            }
          },
          "metadata": {}
        },
        {
          "output_type": "display_data",
          "data": {
            "application/json": {
              "wall_time": 1493148463.996702,
              "step": 8,
              "value": 1.6203078031539917
            }
          },
          "metadata": {}
        },
        {
          "output_type": "display_data",
          "data": {
            "application/json": {
              "wall_time": 1493148464.133656,
              "step": 9,
              "value": 0.5299999713897705
            }
          },
          "metadata": {}
        },
        {
          "output_type": "display_data",
          "data": {
            "application/json": {
              "wall_time": 1493148464.133832,
              "step": 9,
              "value": 1.5753527879714966
            }
          },
          "metadata": {}
        },
        {
          "output_type": "display_data",
          "data": {
            "application/json": {
              "wall_time": 1493148464.281335,
              "step": 10,
              "value": 0.5799999833106995
            }
          },
          "metadata": {}
        },
        {
          "output_type": "display_data",
          "data": {
            "application/json": {
              "wall_time": 1493148464.281942,
              "step": 10,
              "value": 1.4313130378723145
            }
          },
          "metadata": {}
        },
        {
          "output_type": "display_data",
          "data": {
            "application/json": {
              "wall_time": 1493148464.430883,
              "step": 11,
              "value": 0.5299999713897705
            }
          },
          "metadata": {}
        },
        {
          "output_type": "display_data",
          "data": {
            "application/json": {
              "wall_time": 1493148464.431114,
              "step": 11,
              "value": 1.384828805923462
            }
          },
          "metadata": {}
        },
        {
          "output_type": "display_data",
          "data": {
            "application/json": {
              "wall_time": 1493148464.584874,
              "step": 12,
              "value": 0.5299999713897705
            }
          },
          "metadata": {}
        },
        {
          "output_type": "display_data",
          "data": {
            "application/json": {
              "wall_time": 1493148464.585103,
              "step": 12,
              "value": 1.4061087369918823
            }
          },
          "metadata": {}
        },
        {
          "output_type": "display_data",
          "data": {
            "application/json": {
              "wall_time": 1493148464.732095,
              "step": 13,
              "value": 0.5299999713897705
            }
          },
          "metadata": {}
        },
        {
          "output_type": "display_data",
          "data": {
            "application/json": {
              "wall_time": 1493148464.732249,
              "step": 13,
              "value": 1.512790560722351
            }
          },
          "metadata": {}
        },
        {
          "output_type": "display_data",
          "data": {
            "application/json": {
              "wall_time": 1493148464.876404,
              "step": 14,
              "value": 0.5199999809265137
            }
          },
          "metadata": {}
        },
        {
          "output_type": "display_data",
          "data": {
            "application/json": {
              "wall_time": 1493148464.876584,
              "step": 14,
              "value": 1.4460268020629883
            }
          },
          "metadata": {}
        },
        {
          "output_type": "display_data",
          "data": {
            "application/json": {
              "wall_time": 1493148465.028322,
              "step": 15,
              "value": 0.6000000238418579
            }
          },
          "metadata": {}
        },
        {
          "output_type": "display_data",
          "data": {
            "application/json": {
              "wall_time": 1493148465.028922,
              "step": 15,
              "value": 1.3595662117004395
            }
          },
          "metadata": {}
        },
        {
          "output_type": "display_data",
          "data": {
            "application/json": {
              "wall_time": 1493148465.185668,
              "step": 16,
              "value": 0.5299999713897705
            }
          },
          "metadata": {}
        },
        {
          "output_type": "display_data",
          "data": {
            "application/json": {
              "wall_time": 1493148465.18585,
              "step": 16,
              "value": 1.4052820205688477
            }
          },
          "metadata": {}
        },
        {
          "output_type": "display_data",
          "data": {
            "application/json": {
              "wall_time": 1493148465.332493,
              "step": 17,
              "value": 0.5799999833106995
            }
          },
          "metadata": {}
        },
        {
          "output_type": "display_data",
          "data": {
            "application/json": {
              "wall_time": 1493148465.332682,
              "step": 17,
              "value": 1.4611092805862427
            }
          },
          "metadata": {}
        },
        {
          "output_type": "display_data",
          "data": {
            "application/json": {
              "wall_time": 1493148465.485647,
              "step": 18,
              "value": 0.5199999809265137
            }
          },
          "metadata": {}
        },
        {
          "output_type": "display_data",
          "data": {
            "application/json": {
              "wall_time": 1493148465.485803,
              "step": 18,
              "value": 1.3701115846633911
            }
          },
          "metadata": {}
        },
        {
          "output_type": "display_data",
          "data": {
            "application/json": {
              "wall_time": 1493148465.64092,
              "step": 19,
              "value": 0.6600000262260437
            }
          },
          "metadata": {}
        },
        {
          "output_type": "display_data",
          "data": {
            "application/json": {
              "wall_time": 1493148465.641147,
              "step": 19,
              "value": 1.2202391624450684
            }
          },
          "metadata": {}
        },
        {
          "output_type": "execute_result",
          "execution_count": 2,
          "data": {
            "text/plain": [
              "1"
            ]
          },
          "metadata": {}
        }
      ],
      "execution_count": 2,
      "metadata": {
        "collapsed": false,
        "outputHidden": false,
        "inputHidden": false
      }
    },
    {
      "cell_type": "code",
      "source": [
        "digits_try.Try(mnistQueue.ForTesting())"
      ],
      "outputs": [
        {
          "output_type": "display_data",
          "data": {
            "image/png": "[encoded data removed]"
          },
          "metadata": {
            "image/png": {
              "height": 28,
              "width": 28
            }
          }
        },
        {
          "output_type": "display_data",
          "data": {
            "image/png": "[encoded data removed]"
          },
          "metadata": {
            "image/png": {
              "height": 28,
              "width": 28
            }
          }
        },
        {
          "output_type": "display_data",
          "data": {
            "image/png": "[encoded data removed]"
          },
          "metadata": {
            "image/png": {
              "height": 28,
              "width": 28
            }
          }
        },
        {
          "output_type": "execute_result",
          "execution_count": 3,
          "data": {
            "text/plain": [
              "1"
            ]
          },
          "metadata": {}
        },
        {
          "output_type": "display_data",
          "data": {
            "image/png": "[encoded data removed]"
          },
          "metadata": {
            "image/png": {
              "height": 28,
              "width": 28
            }
          }
        },
        {
          "output_type": "display_data",
          "data": {
            "image/png": "[encoded data removed]"
          },
          "metadata": {
            "image/png": {
              "height": 28,
              "width": 28
            }
          }
        },
        {
          "output_type": "display_data",
          "data": {
            "image/png": "[encoded data removed]"
          },
          "metadata": {
            "image/png": {
              "height": 28,
              "width": 28
            }
          }
        },
        {
          "output_type": "display_data",
          "data": {
            "image/png": "[encoded data removed]"
          },
          "metadata": {
            "image/png": {
              "height": 28,
              "width": 28
            }
          }
        },
        {
          "output_type": "display_data",
          "data": {
            "image/png": "[encoded data removed]"
          },
          "metadata": {
            "image/png": {
              "height": 28,
              "width": 28
            }
          }
        },
        {
          "output_type": "display_data",
          "data": {
            "image/png": "[encoded data removed]"
          },
          "metadata": {
            "image/png": {
              "height": 28,
              "width": 28
            }
          }
        },
        {
          "output_type": "display_data",
          "data": {
            "image/png": "[encoded data removed]"
          },
          "metadata": {
            "image/png": {
              "height": 28,
              "width": 28
            }
          }
        },
        {
          "output_type": "display_data",
          "data": {
            "image/png": "[encoded data removed]"
          },
          "metadata": {
            "image/png": {
              "height": 28,
              "width": 28
            }
          }
        },
        {
          "output_type": "display_data",
          "data": {
            "image/png": "[encoded data removed]"
          },
          "metadata": {
            "image/png": {
              "height": 28,
              "width": 28
            }
          }
        },
        {
          "output_type": "display_data",
          "data": {
            "image/png": "[encoded data removed]"
          },
          "metadata": {
            "image/png": {
              "height": 28,
              "width": 28
            }
          }
        },
        {
          "output_type": "display_data",
          "data": {
            "image/png": "[encoded data removed]"
          },
          "metadata": {
            "image/png": {
              "height": 28,
              "width": 28
            }
          }
        },
        {
          "output_type": "display_data",
          "data": {
            "image/png": "[encoded data removed]"
          },
          "metadata": {
            "image/png": {
              "height": 28,
              "width": 28
            }
          }
        },
        {
          "output_type": "display_data",
          "data": {
            "image/png": "[encoded data removed]"
          },
          "metadata": {
            "image/png": {
              "height": 28,
              "width": 28
            }
          }
        },
        {
          "output_type": "display_data",
          "data": {
            "image/png": "[encoded data removed]"
          },
          "metadata": {
            "image/png": {
              "height": 28,
              "width": 28
            }
          }
        },
        {
          "output_type": "display_data",
          "data": {
            "image/png": "[encoded data removed]"
          },
          "metadata": {
            "image/png": {
              "height": 28,
              "width": 28
            }
          }
        },
        {
          "output_type": "display_data",
          "data": {
            "image/png": "[encoded data removed]"
          },
          "metadata": {
            "image/png": {
              "height": 28,
              "width": 28
            }
          }
        },
        {
          "output_type": "display_data",
          "data": {
            "image/png": "[encoded data removed]"
          },
          "metadata": {
            "image/png": {
              "height": 28,
              "width": 28
            }
          }
        },
        {
          "output_type": "display_data",
          "data": {
            "image/png": "[encoded data removed]"
          },
          "metadata": {
            "image/png": {
              "height": 28,
              "width": 28
            }
          }
        },
        {
          "output_type": "display_data",
          "data": {
            "image/png": "[encoded data removed]"
          },
          "metadata": {
            "image/png": {
              "height": 28,
              "width": 28
            }
          }
        },
        {
          "output_type": "display_data",
          "data": {
            "image/png": "[encoded data removed]"
          },
          "metadata": {
            "image/png": {
              "height": 28,
              "width": 28
            }
          }
        },
        {
          "output_type": "display_data",
          "data": {
            "image/png": "[encoded data removed]"
          },
          "metadata": {
            "image/png": {
              "height": 28,
              "width": 28
            }
          }
        },
        {
          "output_type": "display_data",
          "data": {
            "image/png": "[encoded data removed]"
          },
          "metadata": {
            "image/png": {
              "height": 28,
              "width": 28
            }
          }
        },
        {
          "output_type": "display_data",
          "data": {
            "image/png": "[encoded data removed]"
          },
          "metadata": {
            "image/png": {
              "height": 28,
              "width": 28
            }
          }
        },
        {
          "output_type": "display_data",
          "data": {
            "image/png": "[encoded data removed]"
          },
          "metadata": {
            "image/png": {
              "height": 28,
              "width": 28
            }
          }
        }
      ],
      "execution_count": 3,
      "metadata": {
        "collapsed": false,
        "outputHidden": false,
        "inputHidden": false
      }
    },
    {
      "cell_type": "markdown",
      "source": [
        "## Train our model an additional 200 steps and try it again"
      ],
      "metadata": {}
    },
    {
      "cell_type": "code",
      "source": [
        "digits_train.UsingQueue(200, mnistQueue.ForTraining())"
      ],
      "outputs": [
        {
          "output_type": "display_data",
          "data": {
            "application/json": {
              "wall_time": 1493148469.74766,
              "step": 0,
              "value": 0.6700000166893005
            }
          },
          "metadata": {}
        },
        {
          "output_type": "display_data",
          "data": {
            "application/json": {
              "wall_time": 1493148469.747897,
              "step": 0,
              "value": 1.0528398752212524
            }
          },
          "metadata": {}
        },
        {
          "output_type": "display_data",
          "data": {
            "application/json": {
              "wall_time": 1493148469.939938,
              "step": 1,
              "value": 0.6100000143051147
            }
          },
          "metadata": {}
        },
        {
          "output_type": "display_data",
          "data": {
            "application/json": {
              "wall_time": 1493148469.940216,
              "step": 1,
              "value": 1.0800846815109253
            }
          },
          "metadata": {}
        },
        {
          "output_type": "display_data",
          "data": {
            "application/json": {
              "wall_time": 1493148470.163121,
              "step": 2,
              "value": 0.800000011920929
            }
          },
          "metadata": {}
        },
        {
          "output_type": "display_data",
          "data": {
            "application/json": {
              "wall_time": 1493148470.163367,
              "step": 2,
              "value": 0.8043389916419983
            }
          },
          "metadata": {}
        },
        {
          "output_type": "display_data",
          "data": {
            "application/json": {
              "wall_time": 1493148470.39835,
              "step": 3,
              "value": 0.699999988079071
            }
          },
          "metadata": {}
        },
        {
          "output_type": "display_data",
          "data": {
            "application/json": {
              "wall_time": 1493148470.398613,
              "step": 3,
              "value": 0.9639641642570496
            }
          },
          "metadata": {}
        },
        {
          "output_type": "display_data",
          "data": {
            "application/json": {
              "wall_time": 1493148470.693141,
              "step": 4,
              "value": 0.7699999809265137
            }
          },
          "metadata": {}
        },
        {
          "output_type": "display_data",
          "data": {
            "application/json": {
              "wall_time": 1493148470.693363,
              "step": 4,
              "value": 0.9187576174736023
            }
          },
          "metadata": {}
        },
        {
          "output_type": "display_data",
          "data": {
            "application/json": {
              "wall_time": 1493148470.854058,
              "step": 5,
              "value": 0.7400000095367432
            }
          },
          "metadata": {}
        },
        {
          "output_type": "display_data",
          "data": {
            "application/json": {
              "wall_time": 1493148470.854214,
              "step": 5,
              "value": 0.9625205397605896
            }
          },
          "metadata": {}
        },
        {
          "output_type": "display_data",
          "data": {
            "application/json": {
              "wall_time": 1493148471.013556,
              "step": 6,
              "value": 0.5699999928474426
            }
          },
          "metadata": {}
        },
        {
          "output_type": "display_data",
          "data": {
            "application/json": {
              "wall_time": 1493148471.013754,
              "step": 6,
              "value": 1.2241768836975098
            }
          },
          "metadata": {}
        },
        {
          "output_type": "display_data",
          "data": {
            "application/json": {
              "wall_time": 1493148471.161666,
              "step": 7,
              "value": 0.6899999976158142
            }
          },
          "metadata": {}
        },
        {
          "output_type": "display_data",
          "data": {
            "application/json": {
              "wall_time": 1493148471.161874,
              "step": 7,
              "value": 1.2970751523971558
            }
          },
          "metadata": {}
        },
        {
          "output_type": "display_data",
          "data": {
            "application/json": {
              "wall_time": 1493148471.318933,
              "step": 8,
              "value": 0.6600000262260437
            }
          },
          "metadata": {}
        },
        {
          "output_type": "display_data",
          "data": {
            "application/json": {
              "wall_time": 1493148471.319138,
              "step": 8,
              "value": 1.0609973669052124
            }
          },
          "metadata": {}
        },
        {
          "output_type": "display_data",
          "data": {
            "application/json": {
              "wall_time": 1493148471.468322,
              "step": 9,
              "value": 0.6899999976158142
            }
          },
          "metadata": {}
        },
        {
          "output_type": "display_data",
          "data": {
            "application/json": {
              "wall_time": 1493148471.468473,
              "step": 9,
              "value": 0.9149523377418518
            }
          },
          "metadata": {}
        },
        {
          "output_type": "display_data",
          "data": {
            "application/json": {
              "wall_time": 1493148471.622057,
              "step": 10,
              "value": 0.7699999809265137
            }
          },
          "metadata": {}
        },
        {
          "output_type": "display_data",
          "data": {
            "application/json": {
              "wall_time": 1493148471.622228,
              "step": 10,
              "value": 0.8827950954437256
            }
          },
          "metadata": {}
        },
        {
          "output_type": "display_data",
          "data": {
            "application/json": {
              "wall_time": 1493148471.771521,
              "step": 11,
              "value": 0.7300000190734863
            }
          },
          "metadata": {}
        },
        {
          "output_type": "display_data",
          "data": {
            "application/json": {
              "wall_time": 1493148471.771731,
              "step": 11,
              "value": 0.8263508677482605
            }
          },
          "metadata": {}
        },
        {
          "output_type": "display_data",
          "data": {
            "application/json": {
              "wall_time": 1493148471.922937,
              "step": 12,
              "value": 0.699999988079071
            }
          },
          "metadata": {}
        },
        {
          "output_type": "display_data",
          "data": {
            "application/json": {
              "wall_time": 1493148471.923949,
              "step": 12,
              "value": 0.8999002575874329
            }
          },
          "metadata": {}
        },
        {
          "output_type": "display_data",
          "data": {
            "application/json": {
              "wall_time": 1493148472.067729,
              "step": 13,
              "value": 0.699999988079071
            }
          },
          "metadata": {}
        },
        {
          "output_type": "display_data",
          "data": {
            "application/json": {
              "wall_time": 1493148472.067928,
              "step": 13,
              "value": 0.8085504770278931
            }
          },
          "metadata": {}
        },
        {
          "output_type": "display_data",
          "data": {
            "application/json": {
              "wall_time": 1493148472.225316,
              "step": 14,
              "value": 0.7099999785423279
            }
          },
          "metadata": {}
        },
        {
          "output_type": "display_data",
          "data": {
            "application/json": {
              "wall_time": 1493148472.225463,
              "step": 14,
              "value": 0.9627872705459595
            }
          },
          "metadata": {}
        },
        {
          "output_type": "display_data",
          "data": {
            "application/json": {
              "wall_time": 1493148472.385896,
              "step": 15,
              "value": 0.7900000214576721
            }
          },
          "metadata": {}
        },
        {
          "output_type": "display_data",
          "data": {
            "application/json": {
              "wall_time": 1493148472.386097,
              "step": 15,
              "value": 0.6827054023742676
            }
          },
          "metadata": {}
        },
        {
          "output_type": "display_data",
          "data": {
            "application/json": {
              "wall_time": 1493148472.536953,
              "step": 16,
              "value": 0.7599999904632568
            }
          },
          "metadata": {}
        },
        {
          "output_type": "display_data",
          "data": {
            "application/json": {
              "wall_time": 1493148472.537138,
              "step": 16,
              "value": 0.6026832461357117
            }
          },
          "metadata": {}
        },
        {
          "output_type": "display_data",
          "data": {
            "application/json": {
              "wall_time": 1493148472.7024,
              "step": 17,
              "value": 0.7200000286102295
            }
          },
          "metadata": {}
        },
        {
          "output_type": "display_data",
          "data": {
            "application/json": {
              "wall_time": 1493148472.702619,
              "step": 17,
              "value": 0.8192945718765259
            }
          },
          "metadata": {}
        },
        {
          "output_type": "display_data",
          "data": {
            "application/json": {
              "wall_time": 1493148472.863694,
              "step": 18,
              "value": 0.7799999713897705
            }
          },
          "metadata": {}
        },
        {
          "output_type": "display_data",
          "data": {
            "application/json": {
              "wall_time": 1493148472.863879,
              "step": 18,
              "value": 0.7320599555969238
            }
          },
          "metadata": {}
        },
        {
          "output_type": "display_data",
          "data": {
            "application/json": {
              "wall_time": 1493148473.025131,
              "step": 19,
              "value": 0.7900000214576721
            }
          },
          "metadata": {}
        },
        {
          "output_type": "display_data",
          "data": {
            "application/json": {
              "wall_time": 1493148473.025316,
              "step": 19,
              "value": 0.7038270831108093
            }
          },
          "metadata": {}
        },
        {
          "output_type": "display_data",
          "data": {
            "application/json": {
              "wall_time": 1493148473.190324,
              "step": 20,
              "value": 0.8299999833106995
            }
          },
          "metadata": {}
        },
        {
          "output_type": "display_data",
          "data": {
            "application/json": {
              "wall_time": 1493148473.190486,
              "step": 20,
              "value": 0.7172700762748718
            }
          },
          "metadata": {}
        },
        {
          "output_type": "display_data",
          "data": {
            "application/json": {
              "wall_time": 1493148473.359105,
              "step": 21,
              "value": 0.7699999809265137
            }
          },
          "metadata": {}
        },
        {
          "output_type": "display_data",
          "data": {
            "application/json": {
              "wall_time": 1493148473.359316,
              "step": 21,
              "value": 0.6812425851821899
            }
          },
          "metadata": {}
        },
        {
          "output_type": "display_data",
          "data": {
            "application/json": {
              "wall_time": 1493148473.523012,
              "step": 22,
              "value": 0.8299999833106995
            }
          },
          "metadata": {}
        },
        {
          "output_type": "display_data",
          "data": {
            "application/json": {
              "wall_time": 1493148473.523217,
              "step": 22,
              "value": 0.6314640045166016
            }
          },
          "metadata": {}
        },
        {
          "output_type": "display_data",
          "data": {
            "application/json": {
              "wall_time": 1493148473.680863,
              "step": 23,
              "value": 0.9200000166893005
            }
          },
          "metadata": {}
        },
        {
          "output_type": "display_data",
          "data": {
            "application/json": {
              "wall_time": 1493148473.681059,
              "step": 23,
              "value": 0.40672412514686584
            }
          },
          "metadata": {}
        },
        {
          "output_type": "display_data",
          "data": {
            "application/json": {
              "wall_time": 1493148473.844995,
              "step": 24,
              "value": 0.8299999833106995
            }
          },
          "metadata": {}
        },
        {
          "output_type": "display_data",
          "data": {
            "application/json": {
              "wall_time": 1493148473.845189,
              "step": 24,
              "value": 0.5625794529914856
            }
          },
          "metadata": {}
        },
        {
          "output_type": "display_data",
          "data": {
            "application/json": {
              "wall_time": 1493148474.003466,
              "step": 25,
              "value": 0.8500000238418579
            }
          },
          "metadata": {}
        },
        {
          "output_type": "display_data",
          "data": {
            "application/json": {
              "wall_time": 1493148474.003662,
              "step": 25,
              "value": 0.5860190391540527
            }
          },
          "metadata": {}
        },
        {
          "output_type": "display_data",
          "data": {
            "application/json": {
              "wall_time": 1493148474.167178,
              "step": 26,
              "value": 0.8999999761581421
            }
          },
          "metadata": {}
        },
        {
          "output_type": "display_data",
          "data": {
            "application/json": {
              "wall_time": 1493148474.167391,
              "step": 26,
              "value": 0.4586879014968872
            }
          },
          "metadata": {}
        },
        {
          "output_type": "display_data",
          "data": {
            "application/json": {
              "wall_time": 1493148474.332604,
              "step": 27,
              "value": 0.949999988079071
            }
          },
          "metadata": {}
        },
        {
          "output_type": "display_data",
          "data": {
            "application/json": {
              "wall_time": 1493148474.332768,
              "step": 27,
              "value": 0.3173210024833679
            }
          },
          "metadata": {}
        },
        {
          "output_type": "display_data",
          "data": {
            "application/json": {
              "wall_time": 1493148474.496911,
              "step": 28,
              "value": 0.9100000262260437
            }
          },
          "metadata": {}
        },
        {
          "output_type": "display_data",
          "data": {
            "application/json": {
              "wall_time": 1493148474.497189,
              "step": 28,
              "value": 0.3847533166408539
            }
          },
          "metadata": {}
        },
        {
          "output_type": "display_data",
          "data": {
            "application/json": {
              "wall_time": 1493148474.654279,
              "step": 29,
              "value": 0.8299999833106995
            }
          },
          "metadata": {}
        },
        {
          "output_type": "display_data",
          "data": {
            "application/json": {
              "wall_time": 1493148474.654446,
              "step": 29,
              "value": 0.5532296895980835
            }
          },
          "metadata": {}
        },
        {
          "output_type": "display_data",
          "data": {
            "application/json": {
              "wall_time": 1493148474.815747,
              "step": 30,
              "value": 0.8500000238418579
            }
          },
          "metadata": {}
        },
        {
          "output_type": "display_data",
          "data": {
            "application/json": {
              "wall_time": 1493148474.815944,
              "step": 30,
              "value": 0.5183865427970886
            }
          },
          "metadata": {}
        },
        {
          "output_type": "display_data",
          "data": {
            "application/json": {
              "wall_time": 1493148474.974526,
              "step": 31,
              "value": 0.8399999737739563
            }
          },
          "metadata": {}
        },
        {
          "output_type": "display_data",
          "data": {
            "application/json": {
              "wall_time": 1493148474.974734,
              "step": 31,
              "value": 0.5250135660171509
            }
          },
          "metadata": {}
        },
        {
          "output_type": "display_data",
          "data": {
            "application/json": {
              "wall_time": 1493148475.133759,
              "step": 32,
              "value": 0.8100000023841858
            }
          },
          "metadata": {}
        },
        {
          "output_type": "display_data",
          "data": {
            "application/json": {
              "wall_time": 1493148475.133955,
              "step": 32,
              "value": 0.5940244793891907
            }
          },
          "metadata": {}
        },
        {
          "output_type": "display_data",
          "data": {
            "application/json": {
              "wall_time": 1493148475.29362,
              "step": 33,
              "value": 0.8399999737739563
            }
          },
          "metadata": {}
        },
        {
          "output_type": "display_data",
          "data": {
            "application/json": {
              "wall_time": 1493148475.293814,
              "step": 33,
              "value": 0.4298850893974304
            }
          },
          "metadata": {}
        },
        {
          "output_type": "display_data",
          "data": {
            "application/json": {
              "wall_time": 1493148475.468218,
              "step": 34,
              "value": 0.8399999737739563
            }
          },
          "metadata": {}
        },
        {
          "output_type": "display_data",
          "data": {
            "application/json": {
              "wall_time": 1493148475.468433,
              "step": 34,
              "value": 0.4689016044139862
            }
          },
          "metadata": {}
        },
        {
          "output_type": "display_data",
          "data": {
            "application/json": {
              "wall_time": 1493148475.630452,
              "step": 35,
              "value": 0.8500000238418579
            }
          },
          "metadata": {}
        },
        {
          "output_type": "display_data",
          "data": {
            "application/json": {
              "wall_time": 1493148475.630612,
              "step": 35,
              "value": 0.43462029099464417
            }
          },
          "metadata": {}
        },
        {
          "output_type": "display_data",
          "data": {
            "application/json": {
              "wall_time": 1493148475.803469,
              "step": 36,
              "value": 0.8500000238418579
            }
          },
          "metadata": {}
        },
        {
          "output_type": "display_data",
          "data": {
            "application/json": {
              "wall_time": 1493148475.8037,
              "step": 36,
              "value": 0.416788250207901
            }
          },
          "metadata": {}
        },
        {
          "output_type": "display_data",
          "data": {
            "application/json": {
              "wall_time": 1493148475.98395,
              "step": 37,
              "value": 0.8299999833106995
            }
          },
          "metadata": {}
        },
        {
          "output_type": "display_data",
          "data": {
            "application/json": {
              "wall_time": 1493148475.984189,
              "step": 37,
              "value": 0.5587432980537415
            }
          },
          "metadata": {}
        },
        {
          "output_type": "display_data",
          "data": {
            "application/json": {
              "wall_time": 1493148476.149588,
              "step": 38,
              "value": 0.8100000023841858
            }
          },
          "metadata": {}
        },
        {
          "output_type": "display_data",
          "data": {
            "application/json": {
              "wall_time": 1493148476.14989,
              "step": 38,
              "value": 0.509702742099762
            }
          },
          "metadata": {}
        },
        {
          "output_type": "display_data",
          "data": {
            "application/json": {
              "wall_time": 1493148476.329336,
              "step": 39,
              "value": 0.8399999737739563
            }
          },
          "metadata": {}
        },
        {
          "output_type": "display_data",
          "data": {
            "application/json": {
              "wall_time": 1493148476.329505,
              "step": 39,
              "value": 0.4902281165122986
            }
          },
          "metadata": {}
        },
        {
          "output_type": "display_data",
          "data": {
            "application/json": {
              "wall_time": 1493148476.507504,
              "step": 40,
              "value": 0.8100000023841858
            }
          },
          "metadata": {}
        },
        {
          "output_type": "display_data",
          "data": {
            "application/json": {
              "wall_time": 1493148476.507742,
              "step": 40,
              "value": 0.5750356316566467
            }
          },
          "metadata": {}
        },
        {
          "output_type": "display_data",
          "data": {
            "application/json": {
              "wall_time": 1493148476.678462,
              "step": 41,
              "value": 0.8199999928474426
            }
          },
          "metadata": {}
        },
        {
          "output_type": "display_data",
          "data": {
            "application/json": {
              "wall_time": 1493148476.678691,
              "step": 41,
              "value": 0.5907798409461975
            }
          },
          "metadata": {}
        },
        {
          "output_type": "display_data",
          "data": {
            "application/json": {
              "wall_time": 1493148476.850494,
              "step": 42,
              "value": 0.8799999952316284
            }
          },
          "metadata": {}
        },
        {
          "output_type": "display_data",
          "data": {
            "application/json": {
              "wall_time": 1493148476.850709,
              "step": 42,
              "value": 0.46354925632476807
            }
          },
          "metadata": {}
        },
        {
          "output_type": "display_data",
          "data": {
            "application/json": {
              "wall_time": 1493148477.023408,
              "step": 43,
              "value": 0.8399999737739563
            }
          },
          "metadata": {}
        },
        {
          "output_type": "display_data",
          "data": {
            "application/json": {
              "wall_time": 1493148477.023575,
              "step": 43,
              "value": 0.39469191431999207
            }
          },
          "metadata": {}
        },
        {
          "output_type": "display_data",
          "data": {
            "application/json": {
              "wall_time": 1493148477.199423,
              "step": 44,
              "value": 0.8799999952316284
            }
          },
          "metadata": {}
        },
        {
          "output_type": "display_data",
          "data": {
            "application/json": {
              "wall_time": 1493148477.199648,
              "step": 44,
              "value": 0.40259307622909546
            }
          },
          "metadata": {}
        },
        {
          "output_type": "display_data",
          "data": {
            "application/json": {
              "wall_time": 1493148477.379475,
              "step": 45,
              "value": 0.8899999856948853
            }
          },
          "metadata": {}
        },
        {
          "output_type": "display_data",
          "data": {
            "application/json": {
              "wall_time": 1493148477.379694,
              "step": 45,
              "value": 0.3851450979709625
            }
          },
          "metadata": {}
        },
        {
          "output_type": "display_data",
          "data": {
            "application/json": {
              "wall_time": 1493148477.562956,
              "step": 46,
              "value": 0.8500000238418579
            }
          },
          "metadata": {}
        },
        {
          "output_type": "display_data",
          "data": {
            "application/json": {
              "wall_time": 1493148477.563146,
              "step": 46,
              "value": 0.4015088379383087
            }
          },
          "metadata": {}
        },
        {
          "output_type": "display_data",
          "data": {
            "application/json": {
              "wall_time": 1493148477.736296,
              "step": 47,
              "value": 0.8500000238418579
            }
          },
          "metadata": {}
        },
        {
          "output_type": "display_data",
          "data": {
            "application/json": {
              "wall_time": 1493148477.736532,
              "step": 47,
              "value": 0.42772459983825684
            }
          },
          "metadata": {}
        },
        {
          "output_type": "display_data",
          "data": {
            "application/json": {
              "wall_time": 1493148477.917227,
              "step": 48,
              "value": 0.8600000143051147
            }
          },
          "metadata": {}
        },
        {
          "output_type": "display_data",
          "data": {
            "application/json": {
              "wall_time": 1493148477.917438,
              "step": 48,
              "value": 0.418883353471756
            }
          },
          "metadata": {}
        },
        {
          "output_type": "display_data",
          "data": {
            "application/json": {
              "wall_time": 1493148478.093329,
              "step": 49,
              "value": 0.8999999761581421
            }
          },
          "metadata": {}
        },
        {
          "output_type": "display_data",
          "data": {
            "application/json": {
              "wall_time": 1493148478.093547,
              "step": 49,
              "value": 0.33946749567985535
            }
          },
          "metadata": {}
        },
        {
          "output_type": "display_data",
          "data": {
            "application/json": {
              "wall_time": 1493148478.268063,
              "step": 50,
              "value": 0.8500000238418579
            }
          },
          "metadata": {}
        },
        {
          "output_type": "display_data",
          "data": {
            "application/json": {
              "wall_time": 1493148478.268296,
              "step": 50,
              "value": 0.3791075646877289
            }
          },
          "metadata": {}
        },
        {
          "output_type": "display_data",
          "data": {
            "application/json": {
              "wall_time": 1493148478.457675,
              "step": 51,
              "value": 0.8399999737739563
            }
          },
          "metadata": {}
        },
        {
          "output_type": "display_data",
          "data": {
            "application/json": {
              "wall_time": 1493148478.457946,
              "step": 51,
              "value": 0.47000718116760254
            }
          },
          "metadata": {}
        },
        {
          "output_type": "display_data",
          "data": {
            "application/json": {
              "wall_time": 1493148478.634657,
              "step": 52,
              "value": 0.8999999761581421
            }
          },
          "metadata": {}
        },
        {
          "output_type": "display_data",
          "data": {
            "application/json": {
              "wall_time": 1493148478.63489,
              "step": 52,
              "value": 0.3988124132156372
            }
          },
          "metadata": {}
        },
        {
          "output_type": "display_data",
          "data": {
            "application/json": {
              "wall_time": 1493148478.807786,
              "step": 53,
              "value": 0.8799999952316284
            }
          },
          "metadata": {}
        },
        {
          "output_type": "display_data",
          "data": {
            "application/json": {
              "wall_time": 1493148478.807959,
              "step": 53,
              "value": 0.4560717046260834
            }
          },
          "metadata": {}
        },
        {
          "output_type": "display_data",
          "data": {
            "application/json": {
              "wall_time": 1493148478.982305,
              "step": 54,
              "value": 0.8899999856948853
            }
          },
          "metadata": {}
        },
        {
          "output_type": "display_data",
          "data": {
            "application/json": {
              "wall_time": 1493148478.982523,
              "step": 54,
              "value": 0.32958701252937317
            }
          },
          "metadata": {}
        },
        {
          "output_type": "display_data",
          "data": {
            "application/json": {
              "wall_time": 1493148479.157228,
              "step": 55,
              "value": 0.8199999928474426
            }
          },
          "metadata": {}
        },
        {
          "output_type": "display_data",
          "data": {
            "application/json": {
              "wall_time": 1493148479.157415,
              "step": 55,
              "value": 0.5895670056343079
            }
          },
          "metadata": {}
        },
        {
          "output_type": "display_data",
          "data": {
            "application/json": {
              "wall_time": 1493148479.342272,
              "step": 56,
              "value": 0.8999999761581421
            }
          },
          "metadata": {}
        },
        {
          "output_type": "display_data",
          "data": {
            "application/json": {
              "wall_time": 1493148479.342532,
              "step": 56,
              "value": 0.3033945858478546
            }
          },
          "metadata": {}
        },
        {
          "output_type": "display_data",
          "data": {
            "application/json": {
              "wall_time": 1493148479.514771,
              "step": 57,
              "value": 0.8799999952316284
            }
          },
          "metadata": {}
        },
        {
          "output_type": "display_data",
          "data": {
            "application/json": {
              "wall_time": 1493148479.514965,
              "step": 57,
              "value": 0.3760403096675873
            }
          },
          "metadata": {}
        },
        {
          "output_type": "display_data",
          "data": {
            "application/json": {
              "wall_time": 1493148479.685471,
              "step": 58,
              "value": 0.8999999761581421
            }
          },
          "metadata": {}
        },
        {
          "output_type": "display_data",
          "data": {
            "application/json": {
              "wall_time": 1493148479.685673,
              "step": 58,
              "value": 0.3301157057285309
            }
          },
          "metadata": {}
        },
        {
          "output_type": "display_data",
          "data": {
            "application/json": {
              "wall_time": 1493148479.856367,
              "step": 59,
              "value": 0.8299999833106995
            }
          },
          "metadata": {}
        },
        {
          "output_type": "display_data",
          "data": {
            "application/json": {
              "wall_time": 1493148479.856601,
              "step": 59,
              "value": 0.5480347871780396
            }
          },
          "metadata": {}
        },
        {
          "output_type": "display_data",
          "data": {
            "application/json": {
              "wall_time": 1493148480.037709,
              "step": 60,
              "value": 0.8700000047683716
            }
          },
          "metadata": {}
        },
        {
          "output_type": "display_data",
          "data": {
            "application/json": {
              "wall_time": 1493148480.038033,
              "step": 60,
              "value": 0.4262900650501251
            }
          },
          "metadata": {}
        },
        {
          "output_type": "display_data",
          "data": {
            "application/json": {
              "wall_time": 1493148480.226822,
              "step": 61,
              "value": 0.9300000071525574
            }
          },
          "metadata": {}
        },
        {
          "output_type": "display_data",
          "data": {
            "application/json": {
              "wall_time": 1493148480.22705,
              "step": 61,
              "value": 0.27949827909469604
            }
          },
          "metadata": {}
        },
        {
          "output_type": "display_data",
          "data": {
            "application/json": {
              "wall_time": 1493148480.408943,
              "step": 62,
              "value": 0.9100000262260437
            }
          },
          "metadata": {}
        },
        {
          "output_type": "display_data",
          "data": {
            "application/json": {
              "wall_time": 1493148480.409164,
              "step": 62,
              "value": 0.3068673014640808
            }
          },
          "metadata": {}
        },
        {
          "output_type": "display_data",
          "data": {
            "application/json": {
              "wall_time": 1493148480.581063,
              "step": 63,
              "value": 0.8500000238418579
            }
          },
          "metadata": {}
        },
        {
          "output_type": "display_data",
          "data": {
            "application/json": {
              "wall_time": 1493148480.581282,
              "step": 63,
              "value": 0.5670856237411499
            }
          },
          "metadata": {}
        },
        {
          "output_type": "display_data",
          "data": {
            "application/json": {
              "wall_time": 1493148480.756809,
              "step": 64,
              "value": 0.8299999833106995
            }
          },
          "metadata": {}
        },
        {
          "output_type": "display_data",
          "data": {
            "application/json": {
              "wall_time": 1493148480.757038,
              "step": 64,
              "value": 0.5176084041595459
            }
          },
          "metadata": {}
        },
        {
          "output_type": "display_data",
          "data": {
            "application/json": {
              "wall_time": 1493148480.930795,
              "step": 65,
              "value": 0.8799999952316284
            }
          },
          "metadata": {}
        },
        {
          "output_type": "display_data",
          "data": {
            "application/json": {
              "wall_time": 1493148480.931029,
              "step": 65,
              "value": 0.3794116973876953
            }
          },
          "metadata": {}
        },
        {
          "output_type": "display_data",
          "data": {
            "application/json": {
              "wall_time": 1493148481.10935,
              "step": 66,
              "value": 0.9200000166893005
            }
          },
          "metadata": {}
        },
        {
          "output_type": "display_data",
          "data": {
            "application/json": {
              "wall_time": 1493148481.109571,
              "step": 66,
              "value": 0.345866322517395
            }
          },
          "metadata": {}
        },
        {
          "output_type": "display_data",
          "data": {
            "application/json": {
              "wall_time": 1493148481.290301,
              "step": 67,
              "value": 0.8999999761581421
            }
          },
          "metadata": {}
        },
        {
          "output_type": "display_data",
          "data": {
            "application/json": {
              "wall_time": 1493148481.290621,
              "step": 67,
              "value": 0.3091631829738617
            }
          },
          "metadata": {}
        },
        {
          "output_type": "display_data",
          "data": {
            "application/json": {
              "wall_time": 1493148481.472414,
              "step": 68,
              "value": 0.8700000047683716
            }
          },
          "metadata": {}
        },
        {
          "output_type": "display_data",
          "data": {
            "application/json": {
              "wall_time": 1493148481.472635,
              "step": 68,
              "value": 0.40168777108192444
            }
          },
          "metadata": {}
        },
        {
          "output_type": "display_data",
          "data": {
            "application/json": {
              "wall_time": 1493148481.645785,
              "step": 69,
              "value": 0.8199999928474426
            }
          },
          "metadata": {}
        },
        {
          "output_type": "display_data",
          "data": {
            "application/json": {
              "wall_time": 1493148481.646002,
              "step": 69,
              "value": 0.5202074646949768
            }
          },
          "metadata": {}
        },
        {
          "output_type": "display_data",
          "data": {
            "application/json": {
              "wall_time": 1493148481.821225,
              "step": 70,
              "value": 0.8700000047683716
            }
          },
          "metadata": {}
        },
        {
          "output_type": "display_data",
          "data": {
            "application/json": {
              "wall_time": 1493148481.821412,
              "step": 70,
              "value": 0.36111095547676086
            }
          },
          "metadata": {}
        },
        {
          "output_type": "display_data",
          "data": {
            "application/json": {
              "wall_time": 1493148481.996624,
              "step": 71,
              "value": 0.9300000071525574
            }
          },
          "metadata": {}
        },
        {
          "output_type": "display_data",
          "data": {
            "application/json": {
              "wall_time": 1493148481.996836,
              "step": 71,
              "value": 0.2745838761329651
            }
          },
          "metadata": {}
        },
        {
          "output_type": "display_data",
          "data": {
            "application/json": {
              "wall_time": 1493148482.172265,
              "step": 72,
              "value": 0.9200000166893005
            }
          },
          "metadata": {}
        },
        {
          "output_type": "display_data",
          "data": {
            "application/json": {
              "wall_time": 1493148482.172489,
              "step": 72,
              "value": 0.29256415367126465
            }
          },
          "metadata": {}
        },
        {
          "output_type": "display_data",
          "data": {
            "application/json": {
              "wall_time": 1493148482.35833,
              "step": 73,
              "value": 0.8500000238418579
            }
          },
          "metadata": {}
        },
        {
          "output_type": "display_data",
          "data": {
            "application/json": {
              "wall_time": 1493148482.358541,
              "step": 73,
              "value": 0.42426738142967224
            }
          },
          "metadata": {}
        },
        {
          "output_type": "display_data",
          "data": {
            "application/json": {
              "wall_time": 1493148482.535607,
              "step": 74,
              "value": 0.8700000047683716
            }
          },
          "metadata": {}
        },
        {
          "output_type": "display_data",
          "data": {
            "application/json": {
              "wall_time": 1493148482.535833,
              "step": 74,
              "value": 0.3718753159046173
            }
          },
          "metadata": {}
        },
        {
          "output_type": "display_data",
          "data": {
            "application/json": {
              "wall_time": 1493148482.720528,
              "step": 75,
              "value": 0.9100000262260437
            }
          },
          "metadata": {}
        },
        {
          "output_type": "display_data",
          "data": {
            "application/json": {
              "wall_time": 1493148482.720762,
              "step": 75,
              "value": 0.3063878118991852
            }
          },
          "metadata": {}
        },
        {
          "output_type": "display_data",
          "data": {
            "application/json": {
              "wall_time": 1493148482.916984,
              "step": 76,
              "value": 0.9100000262260437
            }
          },
          "metadata": {}
        },
        {
          "output_type": "display_data",
          "data": {
            "application/json": {
              "wall_time": 1493148482.917244,
              "step": 76,
              "value": 0.2891737222671509
            }
          },
          "metadata": {}
        },
        {
          "output_type": "display_data",
          "data": {
            "application/json": {
              "wall_time": 1493148483.124808,
              "step": 77,
              "value": 0.949999988079071
            }
          },
          "metadata": {}
        },
        {
          "output_type": "display_data",
          "data": {
            "application/json": {
              "wall_time": 1493148483.125122,
              "step": 77,
              "value": 0.218047097325325
            }
          },
          "metadata": {}
        },
        {
          "output_type": "display_data",
          "data": {
            "application/json": {
              "wall_time": 1493148483.3131,
              "step": 78,
              "value": 0.949999988079071
            }
          },
          "metadata": {}
        },
        {
          "output_type": "display_data",
          "data": {
            "application/json": {
              "wall_time": 1493148483.313351,
              "step": 78,
              "value": 0.24343989789485931
            }
          },
          "metadata": {}
        },
        {
          "output_type": "display_data",
          "data": {
            "application/json": {
              "wall_time": 1493148483.49805,
              "step": 79,
              "value": 0.8399999737739563
            }
          },
          "metadata": {}
        },
        {
          "output_type": "display_data",
          "data": {
            "application/json": {
              "wall_time": 1493148483.498292,
              "step": 79,
              "value": 0.42393749952316284
            }
          },
          "metadata": {}
        },
        {
          "output_type": "display_data",
          "data": {
            "application/json": {
              "wall_time": 1493148483.681542,
              "step": 80,
              "value": 0.8399999737739563
            }
          },
          "metadata": {}
        },
        {
          "output_type": "display_data",
          "data": {
            "application/json": {
              "wall_time": 1493148483.681768,
              "step": 80,
              "value": 0.38596436381340027
            }
          },
          "metadata": {}
        },
        {
          "output_type": "display_data",
          "data": {
            "application/json": {
              "wall_time": 1493148483.861301,
              "step": 81,
              "value": 0.8700000047683716
            }
          },
          "metadata": {}
        },
        {
          "output_type": "display_data",
          "data": {
            "application/json": {
              "wall_time": 1493148483.861519,
              "step": 81,
              "value": 0.4207199811935425
            }
          },
          "metadata": {}
        },
        {
          "output_type": "display_data",
          "data": {
            "application/json": {
              "wall_time": 1493148484.045449,
              "step": 82,
              "value": 0.8399999737739563
            }
          },
          "metadata": {}
        },
        {
          "output_type": "display_data",
          "data": {
            "application/json": {
              "wall_time": 1493148484.045665,
              "step": 82,
              "value": 0.3704289495944977
            }
          },
          "metadata": {}
        },
        {
          "output_type": "display_data",
          "data": {
            "application/json": {
              "wall_time": 1493148484.227176,
              "step": 83,
              "value": 0.8999999761581421
            }
          },
          "metadata": {}
        },
        {
          "output_type": "display_data",
          "data": {
            "application/json": {
              "wall_time": 1493148484.227413,
              "step": 83,
              "value": 0.2508699893951416
            }
          },
          "metadata": {}
        },
        {
          "output_type": "display_data",
          "data": {
            "application/json": {
              "wall_time": 1493148484.423474,
              "step": 84,
              "value": 0.949999988079071
            }
          },
          "metadata": {}
        },
        {
          "output_type": "display_data",
          "data": {
            "application/json": {
              "wall_time": 1493148484.423689,
              "step": 84,
              "value": 0.2425146847963333
            }
          },
          "metadata": {}
        },
        {
          "output_type": "display_data",
          "data": {
            "application/json": {
              "wall_time": 1493148484.600282,
              "step": 85,
              "value": 0.9700000286102295
            }
          },
          "metadata": {}
        },
        {
          "output_type": "display_data",
          "data": {
            "application/json": {
              "wall_time": 1493148484.600499,
              "step": 85,
              "value": 0.23942053318023682
            }
          },
          "metadata": {}
        },
        {
          "output_type": "display_data",
          "data": {
            "application/json": {
              "wall_time": 1493148484.782256,
              "step": 86,
              "value": 0.9100000262260437
            }
          },
          "metadata": {}
        },
        {
          "output_type": "display_data",
          "data": {
            "application/json": {
              "wall_time": 1493148484.782471,
              "step": 86,
              "value": 0.27699488401412964
            }
          },
          "metadata": {}
        },
        {
          "output_type": "display_data",
          "data": {
            "application/json": {
              "wall_time": 1493148484.966958,
              "step": 87,
              "value": 0.9200000166893005
            }
          },
          "metadata": {}
        },
        {
          "output_type": "display_data",
          "data": {
            "application/json": {
              "wall_time": 1493148484.967176,
              "step": 87,
              "value": 0.22555842995643616
            }
          },
          "metadata": {}
        },
        {
          "output_type": "display_data",
          "data": {
            "application/json": {
              "wall_time": 1493148485.152922,
              "step": 88,
              "value": 0.9200000166893005
            }
          },
          "metadata": {}
        },
        {
          "output_type": "display_data",
          "data": {
            "application/json": {
              "wall_time": 1493148485.153149,
              "step": 88,
              "value": 0.24741333723068237
            }
          },
          "metadata": {}
        },
        {
          "output_type": "display_data",
          "data": {
            "application/json": {
              "wall_time": 1493148485.34456,
              "step": 89,
              "value": 0.9200000166893005
            }
          },
          "metadata": {}
        },
        {
          "output_type": "display_data",
          "data": {
            "application/json": {
              "wall_time": 1493148485.344776,
              "step": 89,
              "value": 0.3906266689300537
            }
          },
          "metadata": {}
        },
        {
          "output_type": "display_data",
          "data": {
            "application/json": {
              "wall_time": 1493148485.549479,
              "step": 90,
              "value": 0.9200000166893005
            }
          },
          "metadata": {}
        },
        {
          "output_type": "display_data",
          "data": {
            "application/json": {
              "wall_time": 1493148485.549783,
              "step": 90,
              "value": 0.28429561853408813
            }
          },
          "metadata": {}
        },
        {
          "output_type": "display_data",
          "data": {
            "application/json": {
              "wall_time": 1493148485.738044,
              "step": 91,
              "value": 0.8999999761581421
            }
          },
          "metadata": {}
        },
        {
          "output_type": "display_data",
          "data": {
            "application/json": {
              "wall_time": 1493148485.738265,
              "step": 91,
              "value": 0.28843262791633606
            }
          },
          "metadata": {}
        },
        {
          "output_type": "display_data",
          "data": {
            "application/json": {
              "wall_time": 1493148485.922079,
              "step": 92,
              "value": 0.8600000143051147
            }
          },
          "metadata": {}
        },
        {
          "output_type": "display_data",
          "data": {
            "application/json": {
              "wall_time": 1493148485.922303,
              "step": 92,
              "value": 0.41260573267936707
            }
          },
          "metadata": {}
        },
        {
          "output_type": "display_data",
          "data": {
            "application/json": {
              "wall_time": 1493148486.101678,
              "step": 93,
              "value": 0.9300000071525574
            }
          },
          "metadata": {}
        },
        {
          "output_type": "display_data",
          "data": {
            "application/json": {
              "wall_time": 1493148486.1019,
              "step": 93,
              "value": 0.25209033489227295
            }
          },
          "metadata": {}
        },
        {
          "output_type": "display_data",
          "data": {
            "application/json": {
              "wall_time": 1493148486.289954,
              "step": 94,
              "value": 0.9399999976158142
            }
          },
          "metadata": {}
        },
        {
          "output_type": "display_data",
          "data": {
            "application/json": {
              "wall_time": 1493148486.290148,
              "step": 94,
              "value": 0.23621374368667603
            }
          },
          "metadata": {}
        },
        {
          "output_type": "display_data",
          "data": {
            "application/json": {
              "wall_time": 1493148486.48163,
              "step": 95,
              "value": 0.8999999761581421
            }
          },
          "metadata": {}
        },
        {
          "output_type": "display_data",
          "data": {
            "application/json": {
              "wall_time": 1493148486.481889,
              "step": 95,
              "value": 0.3744300901889801
            }
          },
          "metadata": {}
        },
        {
          "output_type": "display_data",
          "data": {
            "application/json": {
              "wall_time": 1493148486.667515,
              "step": 96,
              "value": 0.8899999856948853
            }
          },
          "metadata": {}
        },
        {
          "output_type": "display_data",
          "data": {
            "application/json": {
              "wall_time": 1493148486.667754,
              "step": 96,
              "value": 0.2797425091266632
            }
          },
          "metadata": {}
        },
        {
          "output_type": "display_data",
          "data": {
            "application/json": {
              "wall_time": 1493148486.850904,
              "step": 97,
              "value": 0.8199999928474426
            }
          },
          "metadata": {}
        },
        {
          "output_type": "display_data",
          "data": {
            "application/json": {
              "wall_time": 1493148486.851332,
              "step": 97,
              "value": 0.45869314670562744
            }
          },
          "metadata": {}
        },
        {
          "output_type": "display_data",
          "data": {
            "application/json": {
              "wall_time": 1493148487.076623,
              "step": 98,
              "value": 0.8500000238418579
            }
          },
          "metadata": {}
        },
        {
          "output_type": "display_data",
          "data": {
            "application/json": {
              "wall_time": 1493148487.076863,
              "step": 98,
              "value": 0.39861559867858887
            }
          },
          "metadata": {}
        },
        {
          "output_type": "display_data",
          "data": {
            "application/json": {
              "wall_time": 1493148487.275251,
              "step": 99,
              "value": 0.9100000262260437
            }
          },
          "metadata": {}
        },
        {
          "output_type": "display_data",
          "data": {
            "application/json": {
              "wall_time": 1493148487.276005,
              "step": 99,
              "value": 0.28299659490585327
            }
          },
          "metadata": {}
        },
        {
          "output_type": "display_data",
          "data": {
            "application/json": {
              "wall_time": 1493148487.487005,
              "step": 100,
              "value": 0.9100000262260437
            }
          },
          "metadata": {}
        },
        {
          "output_type": "display_data",
          "data": {
            "application/json": {
              "wall_time": 1493148487.487235,
              "step": 100,
              "value": 0.39435866475105286
            }
          },
          "metadata": {}
        },
        {
          "output_type": "display_data",
          "data": {
            "application/json": {
              "wall_time": 1493148487.671351,
              "step": 101,
              "value": 0.8999999761581421
            }
          },
          "metadata": {}
        },
        {
          "output_type": "display_data",
          "data": {
            "application/json": {
              "wall_time": 1493148487.671591,
              "step": 101,
              "value": 0.32188880443573
            }
          },
          "metadata": {}
        },
        {
          "output_type": "display_data",
          "data": {
            "application/json": {
              "wall_time": 1493148487.866659,
              "step": 102,
              "value": 0.9300000071525574
            }
          },
          "metadata": {}
        },
        {
          "output_type": "display_data",
          "data": {
            "application/json": {
              "wall_time": 1493148487.866887,
              "step": 102,
              "value": 0.2717546820640564
            }
          },
          "metadata": {}
        },
        {
          "output_type": "display_data",
          "data": {
            "application/json": {
              "wall_time": 1493148488.049472,
              "step": 103,
              "value": 0.8899999856948853
            }
          },
          "metadata": {}
        },
        {
          "output_type": "display_data",
          "data": {
            "application/json": {
              "wall_time": 1493148488.049843,
              "step": 103,
              "value": 0.30890965461730957
            }
          },
          "metadata": {}
        },
        {
          "output_type": "display_data",
          "data": {
            "application/json": {
              "wall_time": 1493148488.231114,
              "step": 104,
              "value": 0.9100000262260437
            }
          },
          "metadata": {}
        },
        {
          "output_type": "display_data",
          "data": {
            "application/json": {
              "wall_time": 1493148488.231332,
              "step": 104,
              "value": 0.3068253695964813
            }
          },
          "metadata": {}
        },
        {
          "output_type": "display_data",
          "data": {
            "application/json": {
              "wall_time": 1493148488.427445,
              "step": 105,
              "value": 0.8899999856948853
            }
          },
          "metadata": {}
        },
        {
          "output_type": "display_data",
          "data": {
            "application/json": {
              "wall_time": 1493148488.427662,
              "step": 105,
              "value": 0.2522801458835602
            }
          },
          "metadata": {}
        },
        {
          "output_type": "display_data",
          "data": {
            "application/json": {
              "wall_time": 1493148488.613274,
              "step": 106,
              "value": 0.9200000166893005
            }
          },
          "metadata": {}
        },
        {
          "output_type": "display_data",
          "data": {
            "application/json": {
              "wall_time": 1493148488.613463,
              "step": 106,
              "value": 0.28722628951072693
            }
          },
          "metadata": {}
        },
        {
          "output_type": "display_data",
          "data": {
            "application/json": {
              "wall_time": 1493148488.794971,
              "step": 107,
              "value": 0.9200000166893005
            }
          },
          "metadata": {}
        },
        {
          "output_type": "display_data",
          "data": {
            "application/json": {
              "wall_time": 1493148488.795241,
              "step": 107,
              "value": 0.2784295976161957
            }
          },
          "metadata": {}
        },
        {
          "output_type": "display_data",
          "data": {
            "application/json": {
              "wall_time": 1493148488.990223,
              "step": 108,
              "value": 0.9200000166893005
            }
          },
          "metadata": {}
        },
        {
          "output_type": "display_data",
          "data": {
            "application/json": {
              "wall_time": 1493148488.990445,
              "step": 108,
              "value": 0.2622889578342438
            }
          },
          "metadata": {}
        },
        {
          "output_type": "display_data",
          "data": {
            "application/json": {
              "wall_time": 1493148489.174787,
              "step": 109,
              "value": 0.9399999976158142
            }
          },
          "metadata": {}
        },
        {
          "output_type": "display_data",
          "data": {
            "application/json": {
              "wall_time": 1493148489.175161,
              "step": 109,
              "value": 0.23739628493785858
            }
          },
          "metadata": {}
        },
        {
          "output_type": "display_data",
          "data": {
            "application/json": {
              "wall_time": 1493148489.359817,
              "step": 110,
              "value": 0.9300000071525574
            }
          },
          "metadata": {}
        },
        {
          "output_type": "display_data",
          "data": {
            "application/json": {
              "wall_time": 1493148489.360032,
              "step": 110,
              "value": 0.25167620182037354
            }
          },
          "metadata": {}
        },
        {
          "output_type": "execute_result",
          "execution_count": 4,
          "data": {
            "text/plain": [
              "Timed out waiting for notification"
            ]
          },
          "metadata": {}
        }
      ],
      "execution_count": 3,
      "metadata": {
        "collapsed": false,
        "outputHidden": false,
        "inputHidden": false
      }
    },
    {
      "cell_type": "code",
      "source": [
        "digits_try.Try(mnistQueue.ForTesting())"
      ],
      "outputs": [
        {
          "output_type": "display_data",
          "data": {
            "image/png": "[encoded data removed]"
          },
          "metadata": {
            "image/png": {
              "height": 28,
              "width": 28
            }
          }
        },
        {
          "output_type": "display_data",
          "data": {
            "image/png": "[encoded data removed]"
          },
          "metadata": {
            "image/png": {
              "height": 28,
              "width": 28
            }
          }
        },
        {
          "output_type": "display_data",
          "data": {
            "image/png": "[encoded data removed]"
          },
          "metadata": {
            "image/png": {
              "height": 28,
              "width": 28
            }
          }
        },
        {
          "output_type": "display_data",
          "data": {
            "image/png": "[encoded data removed]"
          },
          "metadata": {
            "image/png": {
              "height": 28,
              "width": 28
            }
          }
        },
        {
          "output_type": "display_data",
          "data": {
            "image/png": "[encoded data removed]"
          },
          "metadata": {
            "image/png": {
              "height": 28,
              "width": 28
            }
          }
        },
        {
          "output_type": "display_data",
          "data": {
            "image/png": "[encoded data removed]"
          },
          "metadata": {
            "image/png": {
              "height": 28,
              "width": 28
            }
          }
        },
        {
          "output_type": "display_data",
          "data": {
            "image/png": "[encoded data removed]"
          },
          "metadata": {
            "image/png": {
              "height": 28,
              "width": 28
            }
          }
        },
        {
          "output_type": "display_data",
          "data": {
            "image/png": "[encoded data removed]"
          },
          "metadata": {
            "image/png": {
              "height": 28,
              "width": 28
            }
          }
        },
        {
          "output_type": "display_data",
          "data": {
            "image/png": "[encoded data removed]"
          },
          "metadata": {
            "image/png": {
              "height": 28,
              "width": 28
            }
          }
        },
        {
          "output_type": "display_data",
          "data": {
            "image/png": "[encoded data removed]"
          },
          "metadata": {
            "image/png": {
              "height": 28,
              "width": 28
            }
          }
        },
        {
          "output_type": "display_data",
          "data": {
            "image/png": "[encoded data removed]"
          },
          "metadata": {
            "image/png": {
              "height": 28,
              "width": 28
            }
          }
        },
        {
          "output_type": "display_data",
          "data": {
            "image/png": "[encoded data removed]"
          },
          "metadata": {
            "image/png": {
              "height": 28,
              "width": 28
            }
          }
        },
        {
          "output_type": "display_data",
          "data": {
            "image/png": "[encoded data removed]"
          },
          "metadata": {
            "image/png": {
              "height": 28,
              "width": 28
            }
          }
        },
        {
          "output_type": "display_data",
          "data": {
            "image/png": "[encoded data removed]"
          },
          "metadata": {
            "image/png": {
              "height": 28,
              "width": 28
            }
          }
        },
        {
          "output_type": "display_data",
          "data": {
            "image/png": "[encoded data removed]"
          },
          "metadata": {
            "image/png": {
              "height": 28,
              "width": 28
            }
          }
        },
        {
          "output_type": "display_data",
          "data": {
            "image/png": "[encoded data removed]"
          },
          "metadata": {
            "image/png": {
              "height": 28,
              "width": 28
            }
          }
        },
        {
          "output_type": "display_data",
          "data": {
            "image/png": "[encoded data removed]"
          },
          "metadata": {
            "image/png": {
              "height": 28,
              "width": 28
            }
          }
        },
        {
          "output_type": "display_data",
          "data": {
            "image/png": "[encoded data removed]"
          },
          "metadata": {
            "image/png": {
              "height": 28,
              "width": 28
            }
          }
        },
        {
          "output_type": "display_data",
          "data": {
            "image/png": "[encoded data removed]"
          },
          "metadata": {
            "image/png": {
              "height": 28,
              "width": 28
            }
          }
        },
        {
          "output_type": "display_data",
          "data": {
            "image/png": "[encoded data removed]"
          },
          "metadata": {
            "image/png": {
              "height": 28,
              "width": 28
            }
          }
        },
        {
          "output_type": "display_data",
          "data": {
            "image/png": "[encoded data removed]"
          },
          "metadata": {
            "image/png": {
              "height": 28,
              "width": 28
            }
          }
        },
        {
          "output_type": "display_data",
          "data": {
            "image/png": "[encoded data removed]"
          },
          "metadata": {
            "image/png": {
              "height": 28,
              "width": 28
            }
          }
        },
        {
          "output_type": "display_data",
          "data": {
            "image/png": "[encoded data removed]"
          },
          "metadata": {
            "image/png": {
              "height": 28,
              "width": 28
            }
          }
        },
        {
          "output_type": "display_data",
          "data": {
            "image/png": "[encoded data removed]"
          },
          "metadata": {
            "image/png": {
              "height": 28,
              "width": 28
            }
          }
        },
        {
          "output_type": "display_data",
          "data": {
            "image/png": "[encoded data removed]"
          },
          "metadata": {
            "image/png": {
              "height": 28,
              "width": 28
            }
          }
        },
        {
          "output_type": "display_data",
          "data": {
            "image/png": "[encoded data removed]"
          },
          "metadata": {
            "image/png": {
              "height": 28,
              "width": 28
            }
          }
        },
        {
          "output_type": "display_data",
          "data": {
            "image/png": "[encoded data removed]"
          },
          "metadata": {
            "image/png": {
              "height": 28,
              "width": 28
            }
          }
        },
        {
          "output_type": "execute_result",
          "execution_count": 5,
          "data": {
            "text/plain": [
              "1"
            ]
          },
          "metadata": {}
        },
        {
          "output_type": "display_data",
          "data": {
            "image/png": "[encoded data removed]"
          },
          "metadata": {
            "image/png": {
              "height": 28,
              "width": 28
            }
          }
        },
        {
          "output_type": "display_data",
          "data": {
            "image/png": "[encoded data removed]"
          },
          "metadata": {
            "image/png": {
              "height": 28,
              "width": 28
            }
          }
        },
        {
          "output_type": "display_data",
          "data": {
            "image/png": "[encoded data removed]"
          },
          "metadata": {
            "image/png": {
              "height": 28,
              "width": 28
            }
          }
        }
      ],
      "execution_count": 5,
      "metadata": {
        "collapsed": false,
        "outputHidden": false,
        "inputHidden": false
      }
    }
  ],
  "metadata": {
    "kernelspec": {
      "name": "nao",
      "language": "nao",
      "display_name": "Nao"
    },
    "kernel_info": {
      "name": "nao"
    },
    "language_info": {
      "pygments_lexer": "",
      "nbconvert_exporter": "",
      "codemirror_mode": "",
      "version": "1.0",
      "file_extension": ".nao",
      "mimetype": "",
      "name": "nao"
    }
  },
  "nbformat": 4,
  "nbformat_minor": 4
}